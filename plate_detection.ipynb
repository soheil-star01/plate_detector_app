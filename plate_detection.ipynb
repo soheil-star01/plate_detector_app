{
 "cells": [
  {
   "cell_type": "code",
   "execution_count": 1,
   "metadata": {},
   "outputs": [
    {
     "name": "stderr",
     "output_type": "stream",
     "text": [
      "Using TensorFlow backend.\n"
     ]
    },
    {
     "name": "stdout",
     "output_type": "stream",
     "text": [
      "Loading model successfully...\n"
     ]
    }
   ],
   "source": [
    "import cv2\n",
    "from main import video_process\n",
    "import numpy as np"
   ]
  },
  {
   "cell_type": "code",
   "execution_count": 2,
   "metadata": {},
   "outputs": [
    {
     "name": "stdout",
     "output_type": "stream",
     "text": [
      "sec 3.0 --> plate num: WNO·836  OCR confidence: 0.9790792890957424\n",
      "sec 4.0 --> plate num: WNO·836  OCR confidence: 0.9974896226610456\n",
      "sec 5.0 --> plate num: WNO·836  OCR confidence: 0.9973264932632446\n",
      "sec 6.0 --> plate num: WNO·836  OCR confidence: 0.994387320109776\n",
      "sec 52.0 --> plate num: DGM·487  OCR confidence: 0.9490644410252571\n"
     ]
    }
   ],
   "source": [
    "period_=1 #do sampling every X second (can be float number)\n",
    "video_path=\"test_video/11.mp4\"\n",
    "df_=video_process(video_path,sampling_period=period_,print_out=True,save_file=True)"
   ]
  }
 ],
 "metadata": {
  "kernelspec": {
   "display_name": "Python 3",
   "language": "python",
   "name": "python3"
  },
  "language_info": {
   "codemirror_mode": {
    "name": "ipython",
    "version": 3
   },
   "file_extension": ".py",
   "mimetype": "text/x-python",
   "name": "python",
   "nbconvert_exporter": "python",
   "pygments_lexer": "ipython3",
   "version": "3.8.5"
  }
 },
 "nbformat": 4,
 "nbformat_minor": 2
}
